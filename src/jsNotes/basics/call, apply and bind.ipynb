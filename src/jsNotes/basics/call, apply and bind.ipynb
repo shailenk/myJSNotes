{
 "cells": [
  {
   "cell_type": "markdown",
   "metadata": {},
   "source": [
    "<h1>Calling functions away from context</h1>\n",
    "<h2>Functions defined within the class, might have dependency on current context</h2>\n",
    "<h1> #1: Introduction </h1>"
   ]
  },
  {
   "cell_type": "code",
   "execution_count": null,
   "metadata": {},
   "outputs": [],
   "source": [
    "let People = function(person, age) { \n",
    "        this.person = person; \n",
    "        this.age = age; \n",
    "        this.info = function() { \n",
    "  \n",
    "            // logs People \n",
    "            console.log(this + ' '); \n",
    "  \n",
    "            // here this=People \n",
    "            console.log(this.person + \" is \" + this.age +  \n",
    "                                      \" years old\" + '<br>'); \n",
    "        } \n",
    "    } \n",
    "  \n",
    "let person1 \n",
    "    = new People('John', 21); \n",
    "  \n",
    "// logs : John is 21 years old \n",
    "person1.info(); \n",
    "  \n",
    "// separating the method info() from its \n",
    "// object by storing it in a variable \n",
    "let separated = person1.info; \n",
    "  \n",
    "// logs : undefined is undefined years old \n",
    "separated(); "
   ]
  },
  {
   "cell_type": "markdown",
   "metadata": {},
   "source": [
    "<h2>#2: Calling functions</h2>\n",
    "call, bind and apply"
   ]
  },
  {
   "cell_type": "code",
   "execution_count": null,
   "metadata": {},
   "outputs": [],
   "source": [
    "function addNumbers(getNum1Fn, getNum2Fn){\n",
    "    return getNum1Fn()+getNum2Fn();\n",
    "}\n",
    "function num1(inParam){\n",
    "    return inParam||4;\n",
    "}\n",
    "function num2(inParam){\n",
    "    return inParam||6;\n",
    "}\n",
    "console.log(addNumbers(num1, num2));"
   ]
  },
  {
   "cell_type": "markdown",
   "metadata": {},
   "source": [
    "Lets pass them functions with reference"
   ]
  },
  {
   "cell_type": "code",
   "execution_count": null,
   "metadata": {},
   "outputs": [],
   "source": [
    "function addNumbers(getNum1Fn, getNum2Fn){\n",
    "    return getNum1Fn(ctx1)+getNum2Fn(ctx2);\n",
    "}\n",
    "function NumberClass(inNumber){\n",
    "   this.number = inNumber;\n",
    "}\n",
    "NumberClass.prototype.getNumber=function(inNumber){\n",
    "  return this.number||inNumber;\n",
    "}\n",
    "var num1 = new NumberClass(4);\n",
    "var num2 = new NumberClass(7);\n",
    "\n",
    "console.log(\n",
    "    addNumbers(num1.getNumber, num2.getNumber)\n",
    ");"
   ]
  },
  {
   "cell_type": "markdown",
   "metadata": {},
   "source": [
    "Use call method"
   ]
  },
  {
   "cell_type": "code",
   "execution_count": null,
   "metadata": {},
   "outputs": [],
   "source": [
    "function addNumbers(getNum1Fn, getNum2Fn, ctx1, ctx2){\n",
    "    return getNum1Fn.call(ctx1)+getNum2Fn.call(ctx2);\n",
    "}\n",
    "function NumberClass(inNumber){\n",
    "   this.number = inNumber;\n",
    "}\n",
    "NumberClass.prototype.getNumber=function(inNumber){\n",
    "  return this.number||inNumber;\n",
    "}\n",
    "var num1 = new NumberClass(4);\n",
    "var num2 = new NumberClass(7);\n",
    "console.log(addNumbers(num1.getNumber, num2.getNumber, num1, num2));"
   ]
  },
  {
   "cell_type": "markdown",
   "metadata": {},
   "source": [
    "With arguments"
   ]
  },
  {
   "cell_type": "code",
   "execution_count": null,
   "metadata": {},
   "outputs": [],
   "source": [
    "function addNumbers(getNum1Fn, getNum2Fn, ctx1, ctx2, overrideArg1, overrideArg2){\n",
    "    return getNum1Fn.call(ctx1, overrideArg1)+getNum2Fn.call(ctx2, overrideArg2);\n",
    "}\n",
    "function NumberClass(inNumber){\n",
    "   this.number = inNumber;\n",
    "}\n",
    "NumberClass.prototype.getNumber=function(inNumber){\n",
    "  return inNumber|| this.number;\n",
    "}\n",
    "var num1 = new NumberClass(4);\n",
    "var num2 = new NumberClass(7);\n",
    "console.log(\"With override args 11, 21\");\n",
    "console.log(addNumbers(num1.getNumber, num2.getNumber, num1, num2, 11, 21));\n",
    "console.log(\"Without override args\");\n",
    "console.log(addNumbers(num1.getNumber, num2.getNumber, num1, num2));"
   ]
  },
  {
   "cell_type": "markdown",
   "metadata": {},
   "source": [
    "With <b>bind</b> its easier"
   ]
  },
  {
   "cell_type": "code",
   "execution_count": null,
   "metadata": {},
   "outputs": [],
   "source": [
    "function addNumbers(getNum1Fn, getNum2Fn){\n",
    "    return getNum1Fn()+getNum2Fn();\n",
    "}\n",
    "function NumberClass(inNumber){\n",
    "   this.number = inNumber;\n",
    "}\n",
    "NumberClass.prototype.getNumber=function(){\n",
    "  return this.number;\n",
    "}\n",
    "var num1 = new NumberClass(4);\n",
    "var num2 = new NumberClass(7);\n",
    "console.log(addNumbers(num1.getNumber.bind(num1), num2.getNumber.bind(num2)));"
   ]
  }
 ],
 "metadata": {
  "kernelspec": {
   "display_name": "Javascript (Node.js)",
   "language": "javascript",
   "name": "javascript"
  },
  "language_info": {
   "file_extension": ".js",
   "mimetype": "application/javascript",
   "name": "javascript",
   "version": "6.9.5"
  }
 },
 "nbformat": 4,
 "nbformat_minor": 2
}
