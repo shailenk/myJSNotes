{
 "cells": [
  {
   "cell_type": "markdown",
   "metadata": {},
   "source": [
    "<h1>How to create reusable peice of code when you need to create multiple similar objects?</h1>\n",
    "<h3> #1: A raw ways is with one of the below ways.</h3>"
   ]
  },
  {
   "cell_type": "code",
   "execution_count": 14,
   "metadata": {},
   "outputs": [
    {
     "name": "stdout",
     "output_type": "stream",
     "text": [
      "{ firstName: 'Amy', lastName: 'Man', age: 35, dept: 'Sales' }\n",
      "{ firstName: 'Uwi', lastName: 'Man', age: 37, dept: 'Rnd' }\n"
     ]
    }
   ],
   "source": [
    "// Repetative object creation\n",
    "var emp1 = {\n",
    "    \"firstName\":\"Amy\",\n",
    "    \"lastName\":\"Man\",\n",
    "    \"age\":35,\n",
    "    \"Department\":\"Sales\"\n",
    "};\n",
    "//Emp1\n",
    "console.log(emp1);\n",
    "var emp2 = new Object();\n",
    "emp2.firstName = \"Uwi\";\n",
    "emp2.lastName = \"Man\";\n",
    "emp2.age = 37;\n",
    "emp2.Department = \"Rnd\";\n",
    "//Emp2\n",
    "console.log(emp2);"
   ]
  },
  {
   "cell_type": "markdown",
   "metadata": {},
   "source": [
    "<h3>#2: Create reusable creator function. </h3>"
   ]
  },
  {
   "cell_type": "code",
   "execution_count": 17,
   "metadata": {},
   "outputs": [
    {
     "name": "stdout",
     "output_type": "stream",
     "text": [
      "{ firstName: 'Amy', lastName: 'Man', age: 35, dept: 'Sales' }\n",
      "{ firstName: 'Uwi', lastName: 'Man', age: 37, dept: 'Rnd' }\n"
     ]
    }
   ],
   "source": [
    "// use a creator function\n",
    "function createEmp(firstName, lastName, age, dept){\n",
    "        var emp = {};\n",
    "        emp.firstName = firstName;\n",
    "        emp.lastName = lastName;\n",
    "        emp.age = age;\n",
    "        emp.dept = dept;\n",
    "        return emp;\n",
    "};\n",
    "\n",
    "var emp1 = createEmp(\"Amy\", \"Man\", 35, \"Sales\");\n",
    "console.log(emp1);\n",
    "\n",
    "var emp2 = createEmp(\"Uwi\", \"Man\", 37, \"Rnd\");\n",
    "console.log(emp2);"
   ]
  },
  {
   "cell_type": "markdown",
   "metadata": {},
   "source": [
    "<h3>#3: Use functionName with "
   ]
  },
  {
   "cell_type": "code",
   "execution_count": null,
   "metadata": {},
   "outputs": [],
   "source": []
  }
 ],
 "metadata": {
  "kernelspec": {
   "display_name": "Javascript (Node.js)",
   "language": "javascript",
   "name": "javascript"
  },
  "language_info": {
   "file_extension": ".js",
   "mimetype": "application/javascript",
   "name": "javascript",
   "version": "8.11.1"
  }
 },
 "nbformat": 4,
 "nbformat_minor": 2
}
