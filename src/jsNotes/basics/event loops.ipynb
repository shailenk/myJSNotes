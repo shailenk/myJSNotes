{
 "cells": [
  {
   "cell_type": "markdown",
   "metadata": {},
   "source": [
    "<h1>Event loop samples</h1>\n",
    "<h2>How setTimeout executes</h2>"
   ]
  },
  {
   "cell_type": "code",
   "execution_count": null,
   "metadata": {},
   "outputs": [],
   "source": [
    "function main(){\n",
    "  console.log('A');\n",
    "  setTimeout(\n",
    "    function exec(){ console.log('B'); }\n",
    "  , 0);\n",
    "  runWhileLoopForNSeconds(3);\n",
    "  console.log('C');\n",
    "}\n",
    "main();\n",
    "function runWhileLoopForNSeconds(sec){\n",
    "  let start = Date.now(), now = start;\n",
    "  while (now - start < (sec*1000)) {\n",
    "    now = Date.now();\n",
    "  }\n",
    "}"
   ]
  },
  {
   "cell_type": "markdown",
   "metadata": {},
   "source": [
    "<h2>Preference to promises</h2>"
   ]
  },
  {
   "cell_type": "code",
   "execution_count": null,
   "metadata": {},
   "outputs": [],
   "source": [
    "const bar = () => console.log('bar')\n",
    "\n",
    "const baz = () => console.log('baz')\n",
    "\n",
    "const foo = () => {\n",
    "  console.log('foo')\n",
    "  setTimeout(bar, 0)\n",
    "  new Promise((resolve, reject) =>\n",
    "    resolve('should be right after baz, before bar')\n",
    "  ).then(resolve => console.log(resolve))\n",
    "  baz()\n",
    "}\n",
    "\n",
    "foo()"
   ]
  },
  {
   "cell_type": "markdown",
   "metadata": {},
   "source": [
    "Lets pass them functions with reference"
   ]
  }
 ],
 "metadata": {
  "kernelspec": {
   "display_name": "Javascript (Node.js)",
   "language": "javascript",
   "name": "javascript"
  },
  "language_info": {
   "file_extension": ".js",
   "mimetype": "application/javascript",
   "name": "javascript",
   "version": "6.9.5"
  }
 },
 "nbformat": 4,
 "nbformat_minor": 2
}
