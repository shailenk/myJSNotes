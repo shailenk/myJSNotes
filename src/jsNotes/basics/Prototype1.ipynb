{
 "cells": [
  {
   "cell_type": "markdown",
   "metadata": {},
   "source": [
    "<h1>Prototypes</h1>\n",
    "<h2>Why the need of prototypes</h2>\n",
    "<h1> #1: Introduction </h1><br>This too is one of the automatic things that javaScript intorduces in the code to ease few things."
   ]
  },
  {
   "cell_type": "code",
   "execution_count": 14,
   "metadata": {},
   "outputs": [
    {
     "name": "stdout",
     "output_type": "stream",
     "text": [
      "Hello from Amy Man of age: 35 from Sales department\n",
      "Constructor of function prototype: \n",
      "[Function: greetFunction]\n",
      "\n",
      "__proto__ (dunder proto) of function call: \n",
      "[String: '']\n",
      "\n",
      "Constructor of __proto__ (dunder proto) of object of function: \n",
      "[Function: greetFunction]\n",
      "\n"
     ]
    }
   ],
   "source": [
    "var greetFunction = function(greetPrefix, firstName, lastName, age, dept){\n",
    "    return greetPrefix+\" from \"+firstName+\" \"+lastName+\" of age: \"+age+\" from \"+dept+\" department\";\n",
    "};\n",
    "var greet1 = greetFunction(\"Hello\",\"Amy\", \"Man\", 35, \"Sales\");\n",
    "console.log(greet1);\n",
    "console.log(\"Constructor of function prototype: \");console.log(greetFunction.prototype.constructor);console.log();\n",
    "console.log(\"__proto__ (dunder proto) of function call: \");console.log(greet1.__proto__);console.log();\n",
    "var greet2 = new greetFunction(\"Hello\",\"Amy\", \"Man\", 35, \"Sales\");\n",
    "console.log(\"Constructor of __proto__ (dunder proto) of object of function: \");console.log(greet2.__proto__.constructor);"
   ]
  },
  {
   "cell_type": "code",
   "execution_count": null,
   "metadata": {},
   "outputs": [],
   "source": []
  }
 ],
 "metadata": {
  "kernelspec": {
   "display_name": "Javascript (Node.js)",
   "language": "javascript",
   "name": "javascript"
  },
  "language_info": {
   "file_extension": ".js",
   "mimetype": "application/javascript",
   "name": "javascript",
   "version": "8.11.1"
  }
 },
 "nbformat": 4,
 "nbformat_minor": 2
}
