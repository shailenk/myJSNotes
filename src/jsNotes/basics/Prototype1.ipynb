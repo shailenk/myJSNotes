{
 "cells": [
  {
   "cell_type": "markdown",
   "metadata": {},
   "source": [
    "<h1>Prototypes</h1>\n",
    "<h2>Why the need of prototypes</h2>\n",
    "<h1> #1: Introduction </h1><br>This too is one of the automatic things that javaScript intorduces in the code to ease few things."
   ]
  },
  {
   "cell_type": "code",
   "execution_count": 14,
   "metadata": {},
   "outputs": [
    {
     "name": "stdout",
     "output_type": "stream",
     "text": [
      "Hello from Amy Man of age: 35 from Sales department\n",
      "Constructor of function prototype: \n",
      "[Function: greetFunction]\n",
      "\n",
      "__proto__ (dunder proto) of function call: \n",
      "[String: '']\n",
      "\n",
      "Constructor of __proto__ (dunder proto) of object of function: \n",
      "[Function: greetFunction]\n",
      "\n"
     ]
    }
   ],
   "source": [
    "var greetFunction = function(greetPrefix, firstName, lastName, age, dept){\n",
    "    return greetPrefix+\" from \"+firstName+\" \"+lastName+\" of age: \"+age+\" from \"+dept+\" department\";\n",
    "};\n",
    "var greet1 = greetFunction(\"Hello\",\"Amy\", \"Man\", 35, \"Sales\");\n",
    "console.log(greet1);\n",
    "console.log(\"Constructor of function prototype: \");console.log(greetFunction.prototype.constructor);console.log();\n",
    "console.log(\"__proto__ (dunder proto) of function call: \");console.log(greet1.__proto__);console.log();\n",
    "var greet2 = new greetFunction(\"Hello\",\"Amy\", \"Man\", 35, \"Sales\");\n",
    "console.log(\"Constructor of __proto__ (dunder proto) of object of function: \");console.log(greet2.__proto__.constructor);"
   ]
  },
  {
   "cell_type": "markdown",
   "metadata": {},
   "source": [
    "<h2>#2: Whats the need of prototype?</h2>\n",
    "As we learnt earlier constructor function, allow to share functions and objects defined within a function as below."
   ]
  },
  {
   "cell_type": "code",
   "execution_count": 7,
   "metadata": {},
   "outputs": [
    {
     "name": "stdout",
     "output_type": "stream",
     "text": [
      "Hello from Amy Man of age: 35 from Sales department\n",
      "Good morning from Uwi Man of age: 37 from Rnd department\n",
      "false\n",
      "false\n"
     ]
    }
   ],
   "source": [
    "function Empoyee(firstName, lastName, age, dept){\n",
    "    this.firstName = firstName;\n",
    "    this.lastName = lastName;\n",
    "    this.age = age;\n",
    "    this.dept = dept;\n",
    "    this.greetPeople = function(salutation){\n",
    "        console.log(salutation+\" from \"+firstName+\" \"+lastName+\" of age: \"+age+\" from \"+dept+\" department\");\n",
    "    };\n",
    "    this.employer = {\"organisation\":\"AMC\",\"Address\":\"somewhere\"};\n",
    "};\n",
    "\n",
    "var emp1 = new Empoyee(\"Amy\", \"Man\", 35, \"Sales\");\n",
    "emp1.greetPeople(\"Hello\");\n",
    "\n",
    "var emp2 = new Empoyee(\"Uwi\", \"Man\", 37, \"Rnd\");\n",
    "emp2.greetPeople(\"Good morning\");\n",
    "\n",
    "console.log(emp1.greetPeople === emp2.greetPeople);\n",
    "console.log(emp1.employer === emp2.employer);"
   ]
  },
  {
   "cell_type": "markdown",
   "metadata": {},
   "source": [
    "So as we can see above, the function <b>greetPeople</b> and object <b>employer</b> are getting copied to emp1 and emp2 instances but are not equal.&nbsp;&nbsp;&nbsp;&nbsp;More importantly, both the functions and objects are getting copied and occupying unnecessary memory.\n",
    "To avoid both these these can be a part of the implicit prototype object and thus the instances will get passed by reference.<br><br><h2>#3: Declaring functions and complex objects on prototype."
   ]
  },
  {
   "cell_type": "code",
   "execution_count": 11,
   "metadata": {},
   "outputs": [
    {
     "name": "stdout",
     "output_type": "stream",
     "text": [
      "Hello from Amy Man of age: 35 from Sales department\n",
      "Good morning from Uwi Man of age: 37 from Rnd department\n",
      "true\n",
      "true\n"
     ]
    }
   ],
   "source": [
    "function Empoyee(firstName, lastName, age, dept){\n",
    "    this.firstName = firstName;\n",
    "    this.lastName = lastName;\n",
    "    this.age = age;\n",
    "    this.dept = dept;\n",
    "};\n",
    "Empoyee.prototype.greetPeople = function(salutation){\n",
    "    console.log(salutation+\" from \"+this.firstName+\" \"+this.lastName+\" of age: \"+this.age+\" from \"+this.dept+\" department\");\n",
    "};\n",
    "Empoyee.prototype.employer = {\"organisation\":\"AMC\",\"Address\":\"somewhere\"};\n",
    "\n",
    "var emp1 = new Empoyee(\"Amy\", \"Man\", 35, \"Sales\");\n",
    "emp1.greetPeople(\"Hello\");\n",
    "\n",
    "var emp2 = new Empoyee(\"Uwi\", \"Man\", 37, \"Rnd\");\n",
    "emp2.greetPeople(\"Good morning\");\n",
    "\n",
    "console.log(emp1.greetPeople === emp2.greetPeople);\n",
    "console.log(emp1.employer === emp2.employer);"
   ]
  },
  {
   "cell_type": "markdown",
   "metadata": {},
   "source": [
    "<h2>#4: Using object prototypes</h2>"
   ]
  },
  {
   "cell_type": "code",
   "execution_count": 12,
   "metadata": {},
   "outputs": [
    {
     "name": "stdout",
     "output_type": "stream",
     "text": [
      "Hello from Amy Man of age: 35 from Sales department\n",
      "Good morning from Uwi Man of age: 37 from Rnd department\n",
      "true\n",
      "true\n"
     ]
    }
   ],
   "source": [
    "function Empoyee(firstName, lastName, age, dept){\n",
    "    this.firstName = firstName;\n",
    "    this.lastName = lastName;\n",
    "    this.age = age;\n",
    "    this.dept = dept;\n",
    "    Object.prototype.greetPeople = function(salutation){\n",
    "        console.log(salutation+\" from \"+this.firstName+\" \"+this.lastName+\" of age: \"+this.age+\" from \"+this.dept+\" department\");\n",
    "    }\n",
    "    Object.prototype.employer = {\"organisation\":\"AMC\",\"Address\":\"somewhere\"};\n",
    "};\n",
    "\n",
    "var emp1 = new Empoyee(\"Amy\", \"Man\", 35, \"Sales\");\n",
    "emp1.greetPeople(\"Hello\");\n",
    "\n",
    "var emp2 = new Empoyee(\"Uwi\", \"Man\", 37, \"Rnd\");\n",
    "emp2.greetPeople(\"Good morning\");\n",
    "\n",
    "console.log(emp1.greetPeople === emp2.greetPeople);\n",
    "console.log(emp1.employer === emp2.employer);"
   ]
  },
  {
   "cell_type": "code",
   "execution_count": 26,
   "metadata": {},
   "outputs": [
    {
     "name": "stdout",
     "output_type": "stream",
     "text": [
      "Employee proto: \n",
      "Empoyee {}\n",
      "Object proto: \n",
      "{ greetPeople: [Function],\n",
      "  employer: { organisation: 'AMC', Address: 'somewhere' } }\n"
     ]
    }
   ],
   "source": [
    "console.log(\"Employee proto: \");console.log(emp1.__proto__);\n",
    "console.log(\"Object proto: \");console.log(emp1.__proto__.__proto__);"
   ]
  }
 ],
 "metadata": {
  "kernelspec": {
   "display_name": "Javascript (Node.js)",
   "language": "javascript",
   "name": "javascript"
  },
  "language_info": {
   "file_extension": ".js",
   "mimetype": "application/javascript",
   "name": "javascript",
   "version": "8.11.1"
  }
 },
 "nbformat": 4,
 "nbformat_minor": 2
}
